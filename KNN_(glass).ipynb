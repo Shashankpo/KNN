{
  "nbformat": 4,
  "nbformat_minor": 0,
  "metadata": {
    "colab": {
      "provenance": []
    },
    "kernelspec": {
      "name": "python3",
      "display_name": "Python 3"
    },
    "language_info": {
      "name": "python"
    }
  },
  "cells": [
    {
      "cell_type": "markdown",
      "source": [
        "## KNN (glass)"
      ],
      "metadata": {
        "id": "y9A5P0jSFUlY"
      }
    },
    {
      "cell_type": "markdown",
      "source": [
        "## Prepare a model for glass classification using KNN"
      ],
      "metadata": {
        "id": "5K4H_tb5FYFc"
      }
    },
    {
      "cell_type": "markdown",
      "source": [
        "## 1. Import Libs"
      ],
      "metadata": {
        "id": "jxnEtRUwFbzk"
      }
    },
    {
      "cell_type": "code",
      "execution_count": 1,
      "metadata": {
        "id": "MI6DzzhCFLtx"
      },
      "outputs": [],
      "source": [
        "import pandas as pd\n",
        "import numpy as np\n",
        "from matplotlib import pyplot as plt\n",
        "import seaborn as sns\n",
        "\n",
        "import warnings\n",
        "warnings.filterwarnings('ignore')\n",
        "\n",
        "from sklearn.model_selection import train_test_split\n",
        "from sklearn.neighbors import KNeighborsClassifier\n",
        "from sklearn.metrics import confusion_matrix\n",
        "from sklearn.metrics import accuracy_score\n",
        "from sklearn.model_selection import cross_val_score\n",
        "from sklearn.preprocessing import StandardScaler"
      ]
    },
    {
      "cell_type": "markdown",
      "source": [
        "## 2. Import Data"
      ],
      "metadata": {
        "id": "tPP6Uoz2Fgec"
      }
    },
    {
      "cell_type": "code",
      "source": [
        "from google.colab import files\n",
        "upload = files.upload()"
      ],
      "metadata": {
        "colab": {
          "base_uri": "https://localhost:8080/",
          "height": 73
        },
        "id": "UvnbGGOOFfdr",
        "outputId": "76635a53-e7ae-45bb-ad1c-b3f109305ec5"
      },
      "execution_count": 2,
      "outputs": [
        {
          "output_type": "display_data",
          "data": {
            "text/plain": [
              "<IPython.core.display.HTML object>"
            ],
            "text/html": [
              "\n",
              "     <input type=\"file\" id=\"files-0d2dca02-ffd9-4605-9d8d-d0ff058ab0ae\" name=\"files[]\" multiple disabled\n",
              "        style=\"border:none\" />\n",
              "     <output id=\"result-0d2dca02-ffd9-4605-9d8d-d0ff058ab0ae\">\n",
              "      Upload widget is only available when the cell has been executed in the\n",
              "      current browser session. Please rerun this cell to enable.\n",
              "      </output>\n",
              "      <script>// Copyright 2017 Google LLC\n",
              "//\n",
              "// Licensed under the Apache License, Version 2.0 (the \"License\");\n",
              "// you may not use this file except in compliance with the License.\n",
              "// You may obtain a copy of the License at\n",
              "//\n",
              "//      http://www.apache.org/licenses/LICENSE-2.0\n",
              "//\n",
              "// Unless required by applicable law or agreed to in writing, software\n",
              "// distributed under the License is distributed on an \"AS IS\" BASIS,\n",
              "// WITHOUT WARRANTIES OR CONDITIONS OF ANY KIND, either express or implied.\n",
              "// See the License for the specific language governing permissions and\n",
              "// limitations under the License.\n",
              "\n",
              "/**\n",
              " * @fileoverview Helpers for google.colab Python module.\n",
              " */\n",
              "(function(scope) {\n",
              "function span(text, styleAttributes = {}) {\n",
              "  const element = document.createElement('span');\n",
              "  element.textContent = text;\n",
              "  for (const key of Object.keys(styleAttributes)) {\n",
              "    element.style[key] = styleAttributes[key];\n",
              "  }\n",
              "  return element;\n",
              "}\n",
              "\n",
              "// Max number of bytes which will be uploaded at a time.\n",
              "const MAX_PAYLOAD_SIZE = 100 * 1024;\n",
              "\n",
              "function _uploadFiles(inputId, outputId) {\n",
              "  const steps = uploadFilesStep(inputId, outputId);\n",
              "  const outputElement = document.getElementById(outputId);\n",
              "  // Cache steps on the outputElement to make it available for the next call\n",
              "  // to uploadFilesContinue from Python.\n",
              "  outputElement.steps = steps;\n",
              "\n",
              "  return _uploadFilesContinue(outputId);\n",
              "}\n",
              "\n",
              "// This is roughly an async generator (not supported in the browser yet),\n",
              "// where there are multiple asynchronous steps and the Python side is going\n",
              "// to poll for completion of each step.\n",
              "// This uses a Promise to block the python side on completion of each step,\n",
              "// then passes the result of the previous step as the input to the next step.\n",
              "function _uploadFilesContinue(outputId) {\n",
              "  const outputElement = document.getElementById(outputId);\n",
              "  const steps = outputElement.steps;\n",
              "\n",
              "  const next = steps.next(outputElement.lastPromiseValue);\n",
              "  return Promise.resolve(next.value.promise).then((value) => {\n",
              "    // Cache the last promise value to make it available to the next\n",
              "    // step of the generator.\n",
              "    outputElement.lastPromiseValue = value;\n",
              "    return next.value.response;\n",
              "  });\n",
              "}\n",
              "\n",
              "/**\n",
              " * Generator function which is called between each async step of the upload\n",
              " * process.\n",
              " * @param {string} inputId Element ID of the input file picker element.\n",
              " * @param {string} outputId Element ID of the output display.\n",
              " * @return {!Iterable<!Object>} Iterable of next steps.\n",
              " */\n",
              "function* uploadFilesStep(inputId, outputId) {\n",
              "  const inputElement = document.getElementById(inputId);\n",
              "  inputElement.disabled = false;\n",
              "\n",
              "  const outputElement = document.getElementById(outputId);\n",
              "  outputElement.innerHTML = '';\n",
              "\n",
              "  const pickedPromise = new Promise((resolve) => {\n",
              "    inputElement.addEventListener('change', (e) => {\n",
              "      resolve(e.target.files);\n",
              "    });\n",
              "  });\n",
              "\n",
              "  const cancel = document.createElement('button');\n",
              "  inputElement.parentElement.appendChild(cancel);\n",
              "  cancel.textContent = 'Cancel upload';\n",
              "  const cancelPromise = new Promise((resolve) => {\n",
              "    cancel.onclick = () => {\n",
              "      resolve(null);\n",
              "    };\n",
              "  });\n",
              "\n",
              "  // Wait for the user to pick the files.\n",
              "  const files = yield {\n",
              "    promise: Promise.race([pickedPromise, cancelPromise]),\n",
              "    response: {\n",
              "      action: 'starting',\n",
              "    }\n",
              "  };\n",
              "\n",
              "  cancel.remove();\n",
              "\n",
              "  // Disable the input element since further picks are not allowed.\n",
              "  inputElement.disabled = true;\n",
              "\n",
              "  if (!files) {\n",
              "    return {\n",
              "      response: {\n",
              "        action: 'complete',\n",
              "      }\n",
              "    };\n",
              "  }\n",
              "\n",
              "  for (const file of files) {\n",
              "    const li = document.createElement('li');\n",
              "    li.append(span(file.name, {fontWeight: 'bold'}));\n",
              "    li.append(span(\n",
              "        `(${file.type || 'n/a'}) - ${file.size} bytes, ` +\n",
              "        `last modified: ${\n",
              "            file.lastModifiedDate ? file.lastModifiedDate.toLocaleDateString() :\n",
              "                                    'n/a'} - `));\n",
              "    const percent = span('0% done');\n",
              "    li.appendChild(percent);\n",
              "\n",
              "    outputElement.appendChild(li);\n",
              "\n",
              "    const fileDataPromise = new Promise((resolve) => {\n",
              "      const reader = new FileReader();\n",
              "      reader.onload = (e) => {\n",
              "        resolve(e.target.result);\n",
              "      };\n",
              "      reader.readAsArrayBuffer(file);\n",
              "    });\n",
              "    // Wait for the data to be ready.\n",
              "    let fileData = yield {\n",
              "      promise: fileDataPromise,\n",
              "      response: {\n",
              "        action: 'continue',\n",
              "      }\n",
              "    };\n",
              "\n",
              "    // Use a chunked sending to avoid message size limits. See b/62115660.\n",
              "    let position = 0;\n",
              "    do {\n",
              "      const length = Math.min(fileData.byteLength - position, MAX_PAYLOAD_SIZE);\n",
              "      const chunk = new Uint8Array(fileData, position, length);\n",
              "      position += length;\n",
              "\n",
              "      const base64 = btoa(String.fromCharCode.apply(null, chunk));\n",
              "      yield {\n",
              "        response: {\n",
              "          action: 'append',\n",
              "          file: file.name,\n",
              "          data: base64,\n",
              "        },\n",
              "      };\n",
              "\n",
              "      let percentDone = fileData.byteLength === 0 ?\n",
              "          100 :\n",
              "          Math.round((position / fileData.byteLength) * 100);\n",
              "      percent.textContent = `${percentDone}% done`;\n",
              "\n",
              "    } while (position < fileData.byteLength);\n",
              "  }\n",
              "\n",
              "  // All done.\n",
              "  yield {\n",
              "    response: {\n",
              "      action: 'complete',\n",
              "    }\n",
              "  };\n",
              "}\n",
              "\n",
              "scope.google = scope.google || {};\n",
              "scope.google.colab = scope.google.colab || {};\n",
              "scope.google.colab._files = {\n",
              "  _uploadFiles,\n",
              "  _uploadFilesContinue,\n",
              "};\n",
              "})(self);\n",
              "</script> "
            ]
          },
          "metadata": {}
        },
        {
          "output_type": "stream",
          "name": "stdout",
          "text": [
            "Saving glass.csv to glass.csv\n"
          ]
        }
      ]
    },
    {
      "cell_type": "code",
      "source": [
        "glass = pd.read_csv('glass.csv')\n",
        "glass"
      ],
      "metadata": {
        "colab": {
          "base_uri": "https://localhost:8080/",
          "height": 424
        },
        "id": "WtTBfIKKFlrI",
        "outputId": "2e738cc1-0e2c-4034-d42b-b5ad5cca8fe9"
      },
      "execution_count": 3,
      "outputs": [
        {
          "output_type": "execute_result",
          "data": {
            "text/plain": [
              "          RI     Na    Mg    Al     Si     K    Ca    Ba   Fe  Type\n",
              "0    1.52101  13.64  4.49  1.10  71.78  0.06  8.75  0.00  0.0     1\n",
              "1    1.51761  13.89  3.60  1.36  72.73  0.48  7.83  0.00  0.0     1\n",
              "2    1.51618  13.53  3.55  1.54  72.99  0.39  7.78  0.00  0.0     1\n",
              "3    1.51766  13.21  3.69  1.29  72.61  0.57  8.22  0.00  0.0     1\n",
              "4    1.51742  13.27  3.62  1.24  73.08  0.55  8.07  0.00  0.0     1\n",
              "..       ...    ...   ...   ...    ...   ...   ...   ...  ...   ...\n",
              "209  1.51623  14.14  0.00  2.88  72.61  0.08  9.18  1.06  0.0     7\n",
              "210  1.51685  14.92  0.00  1.99  73.06  0.00  8.40  1.59  0.0     7\n",
              "211  1.52065  14.36  0.00  2.02  73.42  0.00  8.44  1.64  0.0     7\n",
              "212  1.51651  14.38  0.00  1.94  73.61  0.00  8.48  1.57  0.0     7\n",
              "213  1.51711  14.23  0.00  2.08  73.36  0.00  8.62  1.67  0.0     7\n",
              "\n",
              "[214 rows x 10 columns]"
            ],
            "text/html": [
              "\n",
              "  <div id=\"df-366d1724-51da-4da0-8c91-137e3992a16c\">\n",
              "    <div class=\"colab-df-container\">\n",
              "      <div>\n",
              "<style scoped>\n",
              "    .dataframe tbody tr th:only-of-type {\n",
              "        vertical-align: middle;\n",
              "    }\n",
              "\n",
              "    .dataframe tbody tr th {\n",
              "        vertical-align: top;\n",
              "    }\n",
              "\n",
              "    .dataframe thead th {\n",
              "        text-align: right;\n",
              "    }\n",
              "</style>\n",
              "<table border=\"1\" class=\"dataframe\">\n",
              "  <thead>\n",
              "    <tr style=\"text-align: right;\">\n",
              "      <th></th>\n",
              "      <th>RI</th>\n",
              "      <th>Na</th>\n",
              "      <th>Mg</th>\n",
              "      <th>Al</th>\n",
              "      <th>Si</th>\n",
              "      <th>K</th>\n",
              "      <th>Ca</th>\n",
              "      <th>Ba</th>\n",
              "      <th>Fe</th>\n",
              "      <th>Type</th>\n",
              "    </tr>\n",
              "  </thead>\n",
              "  <tbody>\n",
              "    <tr>\n",
              "      <th>0</th>\n",
              "      <td>1.52101</td>\n",
              "      <td>13.64</td>\n",
              "      <td>4.49</td>\n",
              "      <td>1.10</td>\n",
              "      <td>71.78</td>\n",
              "      <td>0.06</td>\n",
              "      <td>8.75</td>\n",
              "      <td>0.00</td>\n",
              "      <td>0.0</td>\n",
              "      <td>1</td>\n",
              "    </tr>\n",
              "    <tr>\n",
              "      <th>1</th>\n",
              "      <td>1.51761</td>\n",
              "      <td>13.89</td>\n",
              "      <td>3.60</td>\n",
              "      <td>1.36</td>\n",
              "      <td>72.73</td>\n",
              "      <td>0.48</td>\n",
              "      <td>7.83</td>\n",
              "      <td>0.00</td>\n",
              "      <td>0.0</td>\n",
              "      <td>1</td>\n",
              "    </tr>\n",
              "    <tr>\n",
              "      <th>2</th>\n",
              "      <td>1.51618</td>\n",
              "      <td>13.53</td>\n",
              "      <td>3.55</td>\n",
              "      <td>1.54</td>\n",
              "      <td>72.99</td>\n",
              "      <td>0.39</td>\n",
              "      <td>7.78</td>\n",
              "      <td>0.00</td>\n",
              "      <td>0.0</td>\n",
              "      <td>1</td>\n",
              "    </tr>\n",
              "    <tr>\n",
              "      <th>3</th>\n",
              "      <td>1.51766</td>\n",
              "      <td>13.21</td>\n",
              "      <td>3.69</td>\n",
              "      <td>1.29</td>\n",
              "      <td>72.61</td>\n",
              "      <td>0.57</td>\n",
              "      <td>8.22</td>\n",
              "      <td>0.00</td>\n",
              "      <td>0.0</td>\n",
              "      <td>1</td>\n",
              "    </tr>\n",
              "    <tr>\n",
              "      <th>4</th>\n",
              "      <td>1.51742</td>\n",
              "      <td>13.27</td>\n",
              "      <td>3.62</td>\n",
              "      <td>1.24</td>\n",
              "      <td>73.08</td>\n",
              "      <td>0.55</td>\n",
              "      <td>8.07</td>\n",
              "      <td>0.00</td>\n",
              "      <td>0.0</td>\n",
              "      <td>1</td>\n",
              "    </tr>\n",
              "    <tr>\n",
              "      <th>...</th>\n",
              "      <td>...</td>\n",
              "      <td>...</td>\n",
              "      <td>...</td>\n",
              "      <td>...</td>\n",
              "      <td>...</td>\n",
              "      <td>...</td>\n",
              "      <td>...</td>\n",
              "      <td>...</td>\n",
              "      <td>...</td>\n",
              "      <td>...</td>\n",
              "    </tr>\n",
              "    <tr>\n",
              "      <th>209</th>\n",
              "      <td>1.51623</td>\n",
              "      <td>14.14</td>\n",
              "      <td>0.00</td>\n",
              "      <td>2.88</td>\n",
              "      <td>72.61</td>\n",
              "      <td>0.08</td>\n",
              "      <td>9.18</td>\n",
              "      <td>1.06</td>\n",
              "      <td>0.0</td>\n",
              "      <td>7</td>\n",
              "    </tr>\n",
              "    <tr>\n",
              "      <th>210</th>\n",
              "      <td>1.51685</td>\n",
              "      <td>14.92</td>\n",
              "      <td>0.00</td>\n",
              "      <td>1.99</td>\n",
              "      <td>73.06</td>\n",
              "      <td>0.00</td>\n",
              "      <td>8.40</td>\n",
              "      <td>1.59</td>\n",
              "      <td>0.0</td>\n",
              "      <td>7</td>\n",
              "    </tr>\n",
              "    <tr>\n",
              "      <th>211</th>\n",
              "      <td>1.52065</td>\n",
              "      <td>14.36</td>\n",
              "      <td>0.00</td>\n",
              "      <td>2.02</td>\n",
              "      <td>73.42</td>\n",
              "      <td>0.00</td>\n",
              "      <td>8.44</td>\n",
              "      <td>1.64</td>\n",
              "      <td>0.0</td>\n",
              "      <td>7</td>\n",
              "    </tr>\n",
              "    <tr>\n",
              "      <th>212</th>\n",
              "      <td>1.51651</td>\n",
              "      <td>14.38</td>\n",
              "      <td>0.00</td>\n",
              "      <td>1.94</td>\n",
              "      <td>73.61</td>\n",
              "      <td>0.00</td>\n",
              "      <td>8.48</td>\n",
              "      <td>1.57</td>\n",
              "      <td>0.0</td>\n",
              "      <td>7</td>\n",
              "    </tr>\n",
              "    <tr>\n",
              "      <th>213</th>\n",
              "      <td>1.51711</td>\n",
              "      <td>14.23</td>\n",
              "      <td>0.00</td>\n",
              "      <td>2.08</td>\n",
              "      <td>73.36</td>\n",
              "      <td>0.00</td>\n",
              "      <td>8.62</td>\n",
              "      <td>1.67</td>\n",
              "      <td>0.0</td>\n",
              "      <td>7</td>\n",
              "    </tr>\n",
              "  </tbody>\n",
              "</table>\n",
              "<p>214 rows × 10 columns</p>\n",
              "</div>\n",
              "      <button class=\"colab-df-convert\" onclick=\"convertToInteractive('df-366d1724-51da-4da0-8c91-137e3992a16c')\"\n",
              "              title=\"Convert this dataframe to an interactive table.\"\n",
              "              style=\"display:none;\">\n",
              "        \n",
              "  <svg xmlns=\"http://www.w3.org/2000/svg\" height=\"24px\"viewBox=\"0 0 24 24\"\n",
              "       width=\"24px\">\n",
              "    <path d=\"M0 0h24v24H0V0z\" fill=\"none\"/>\n",
              "    <path d=\"M18.56 5.44l.94 2.06.94-2.06 2.06-.94-2.06-.94-.94-2.06-.94 2.06-2.06.94zm-11 1L8.5 8.5l.94-2.06 2.06-.94-2.06-.94L8.5 2.5l-.94 2.06-2.06.94zm10 10l.94 2.06.94-2.06 2.06-.94-2.06-.94-.94-2.06-.94 2.06-2.06.94z\"/><path d=\"M17.41 7.96l-1.37-1.37c-.4-.4-.92-.59-1.43-.59-.52 0-1.04.2-1.43.59L10.3 9.45l-7.72 7.72c-.78.78-.78 2.05 0 2.83L4 21.41c.39.39.9.59 1.41.59.51 0 1.02-.2 1.41-.59l7.78-7.78 2.81-2.81c.8-.78.8-2.07 0-2.86zM5.41 20L4 18.59l7.72-7.72 1.47 1.35L5.41 20z\"/>\n",
              "  </svg>\n",
              "      </button>\n",
              "      \n",
              "  <style>\n",
              "    .colab-df-container {\n",
              "      display:flex;\n",
              "      flex-wrap:wrap;\n",
              "      gap: 12px;\n",
              "    }\n",
              "\n",
              "    .colab-df-convert {\n",
              "      background-color: #E8F0FE;\n",
              "      border: none;\n",
              "      border-radius: 50%;\n",
              "      cursor: pointer;\n",
              "      display: none;\n",
              "      fill: #1967D2;\n",
              "      height: 32px;\n",
              "      padding: 0 0 0 0;\n",
              "      width: 32px;\n",
              "    }\n",
              "\n",
              "    .colab-df-convert:hover {\n",
              "      background-color: #E2EBFA;\n",
              "      box-shadow: 0px 1px 2px rgba(60, 64, 67, 0.3), 0px 1px 3px 1px rgba(60, 64, 67, 0.15);\n",
              "      fill: #174EA6;\n",
              "    }\n",
              "\n",
              "    [theme=dark] .colab-df-convert {\n",
              "      background-color: #3B4455;\n",
              "      fill: #D2E3FC;\n",
              "    }\n",
              "\n",
              "    [theme=dark] .colab-df-convert:hover {\n",
              "      background-color: #434B5C;\n",
              "      box-shadow: 0px 1px 3px 1px rgba(0, 0, 0, 0.15);\n",
              "      filter: drop-shadow(0px 1px 2px rgba(0, 0, 0, 0.3));\n",
              "      fill: #FFFFFF;\n",
              "    }\n",
              "  </style>\n",
              "\n",
              "      <script>\n",
              "        const buttonEl =\n",
              "          document.querySelector('#df-366d1724-51da-4da0-8c91-137e3992a16c button.colab-df-convert');\n",
              "        buttonEl.style.display =\n",
              "          google.colab.kernel.accessAllowed ? 'block' : 'none';\n",
              "\n",
              "        async function convertToInteractive(key) {\n",
              "          const element = document.querySelector('#df-366d1724-51da-4da0-8c91-137e3992a16c');\n",
              "          const dataTable =\n",
              "            await google.colab.kernel.invokeFunction('convertToInteractive',\n",
              "                                                     [key], {});\n",
              "          if (!dataTable) return;\n",
              "\n",
              "          const docLinkHtml = 'Like what you see? Visit the ' +\n",
              "            '<a target=\"_blank\" href=https://colab.research.google.com/notebooks/data_table.ipynb>data table notebook</a>'\n",
              "            + ' to learn more about interactive tables.';\n",
              "          element.innerHTML = '';\n",
              "          dataTable['output_type'] = 'display_data';\n",
              "          await google.colab.output.renderOutput(dataTable, element);\n",
              "          const docLink = document.createElement('div');\n",
              "          docLink.innerHTML = docLinkHtml;\n",
              "          element.appendChild(docLink);\n",
              "        }\n",
              "      </script>\n",
              "    </div>\n",
              "  </div>\n",
              "  "
            ]
          },
          "metadata": {},
          "execution_count": 3
        }
      ]
    },
    {
      "cell_type": "markdown",
      "source": [
        "## 3. EDA"
      ],
      "metadata": {
        "id": "NLIIkj-4Fqm7"
      }
    },
    {
      "cell_type": "code",
      "source": [
        "glass.describe()"
      ],
      "metadata": {
        "colab": {
          "base_uri": "https://localhost:8080/",
          "height": 364
        },
        "id": "BSTf_OeKFpyd",
        "outputId": "b04caafe-7bce-421f-faba-852170e42d26"
      },
      "execution_count": 5,
      "outputs": [
        {
          "output_type": "execute_result",
          "data": {
            "text/plain": [
              "               RI          Na          Mg          Al          Si           K  \\\n",
              "count  214.000000  214.000000  214.000000  214.000000  214.000000  214.000000   \n",
              "mean     1.518365   13.407850    2.684533    1.444907   72.650935    0.497056   \n",
              "std      0.003037    0.816604    1.442408    0.499270    0.774546    0.652192   \n",
              "min      1.511150   10.730000    0.000000    0.290000   69.810000    0.000000   \n",
              "25%      1.516522   12.907500    2.115000    1.190000   72.280000    0.122500   \n",
              "50%      1.517680   13.300000    3.480000    1.360000   72.790000    0.555000   \n",
              "75%      1.519157   13.825000    3.600000    1.630000   73.087500    0.610000   \n",
              "max      1.533930   17.380000    4.490000    3.500000   75.410000    6.210000   \n",
              "\n",
              "               Ca          Ba          Fe        Type  \n",
              "count  214.000000  214.000000  214.000000  214.000000  \n",
              "mean     8.956963    0.175047    0.057009    2.780374  \n",
              "std      1.423153    0.497219    0.097439    2.103739  \n",
              "min      5.430000    0.000000    0.000000    1.000000  \n",
              "25%      8.240000    0.000000    0.000000    1.000000  \n",
              "50%      8.600000    0.000000    0.000000    2.000000  \n",
              "75%      9.172500    0.000000    0.100000    3.000000  \n",
              "max     16.190000    3.150000    0.510000    7.000000  "
            ],
            "text/html": [
              "\n",
              "  <div id=\"df-1096e5e4-8694-45c0-8fa5-03a6e1fffa73\">\n",
              "    <div class=\"colab-df-container\">\n",
              "      <div>\n",
              "<style scoped>\n",
              "    .dataframe tbody tr th:only-of-type {\n",
              "        vertical-align: middle;\n",
              "    }\n",
              "\n",
              "    .dataframe tbody tr th {\n",
              "        vertical-align: top;\n",
              "    }\n",
              "\n",
              "    .dataframe thead th {\n",
              "        text-align: right;\n",
              "    }\n",
              "</style>\n",
              "<table border=\"1\" class=\"dataframe\">\n",
              "  <thead>\n",
              "    <tr style=\"text-align: right;\">\n",
              "      <th></th>\n",
              "      <th>RI</th>\n",
              "      <th>Na</th>\n",
              "      <th>Mg</th>\n",
              "      <th>Al</th>\n",
              "      <th>Si</th>\n",
              "      <th>K</th>\n",
              "      <th>Ca</th>\n",
              "      <th>Ba</th>\n",
              "      <th>Fe</th>\n",
              "      <th>Type</th>\n",
              "    </tr>\n",
              "  </thead>\n",
              "  <tbody>\n",
              "    <tr>\n",
              "      <th>count</th>\n",
              "      <td>214.000000</td>\n",
              "      <td>214.000000</td>\n",
              "      <td>214.000000</td>\n",
              "      <td>214.000000</td>\n",
              "      <td>214.000000</td>\n",
              "      <td>214.000000</td>\n",
              "      <td>214.000000</td>\n",
              "      <td>214.000000</td>\n",
              "      <td>214.000000</td>\n",
              "      <td>214.000000</td>\n",
              "    </tr>\n",
              "    <tr>\n",
              "      <th>mean</th>\n",
              "      <td>1.518365</td>\n",
              "      <td>13.407850</td>\n",
              "      <td>2.684533</td>\n",
              "      <td>1.444907</td>\n",
              "      <td>72.650935</td>\n",
              "      <td>0.497056</td>\n",
              "      <td>8.956963</td>\n",
              "      <td>0.175047</td>\n",
              "      <td>0.057009</td>\n",
              "      <td>2.780374</td>\n",
              "    </tr>\n",
              "    <tr>\n",
              "      <th>std</th>\n",
              "      <td>0.003037</td>\n",
              "      <td>0.816604</td>\n",
              "      <td>1.442408</td>\n",
              "      <td>0.499270</td>\n",
              "      <td>0.774546</td>\n",
              "      <td>0.652192</td>\n",
              "      <td>1.423153</td>\n",
              "      <td>0.497219</td>\n",
              "      <td>0.097439</td>\n",
              "      <td>2.103739</td>\n",
              "    </tr>\n",
              "    <tr>\n",
              "      <th>min</th>\n",
              "      <td>1.511150</td>\n",
              "      <td>10.730000</td>\n",
              "      <td>0.000000</td>\n",
              "      <td>0.290000</td>\n",
              "      <td>69.810000</td>\n",
              "      <td>0.000000</td>\n",
              "      <td>5.430000</td>\n",
              "      <td>0.000000</td>\n",
              "      <td>0.000000</td>\n",
              "      <td>1.000000</td>\n",
              "    </tr>\n",
              "    <tr>\n",
              "      <th>25%</th>\n",
              "      <td>1.516522</td>\n",
              "      <td>12.907500</td>\n",
              "      <td>2.115000</td>\n",
              "      <td>1.190000</td>\n",
              "      <td>72.280000</td>\n",
              "      <td>0.122500</td>\n",
              "      <td>8.240000</td>\n",
              "      <td>0.000000</td>\n",
              "      <td>0.000000</td>\n",
              "      <td>1.000000</td>\n",
              "    </tr>\n",
              "    <tr>\n",
              "      <th>50%</th>\n",
              "      <td>1.517680</td>\n",
              "      <td>13.300000</td>\n",
              "      <td>3.480000</td>\n",
              "      <td>1.360000</td>\n",
              "      <td>72.790000</td>\n",
              "      <td>0.555000</td>\n",
              "      <td>8.600000</td>\n",
              "      <td>0.000000</td>\n",
              "      <td>0.000000</td>\n",
              "      <td>2.000000</td>\n",
              "    </tr>\n",
              "    <tr>\n",
              "      <th>75%</th>\n",
              "      <td>1.519157</td>\n",
              "      <td>13.825000</td>\n",
              "      <td>3.600000</td>\n",
              "      <td>1.630000</td>\n",
              "      <td>73.087500</td>\n",
              "      <td>0.610000</td>\n",
              "      <td>9.172500</td>\n",
              "      <td>0.000000</td>\n",
              "      <td>0.100000</td>\n",
              "      <td>3.000000</td>\n",
              "    </tr>\n",
              "    <tr>\n",
              "      <th>max</th>\n",
              "      <td>1.533930</td>\n",
              "      <td>17.380000</td>\n",
              "      <td>4.490000</td>\n",
              "      <td>3.500000</td>\n",
              "      <td>75.410000</td>\n",
              "      <td>6.210000</td>\n",
              "      <td>16.190000</td>\n",
              "      <td>3.150000</td>\n",
              "      <td>0.510000</td>\n",
              "      <td>7.000000</td>\n",
              "    </tr>\n",
              "  </tbody>\n",
              "</table>\n",
              "</div>\n",
              "      <button class=\"colab-df-convert\" onclick=\"convertToInteractive('df-1096e5e4-8694-45c0-8fa5-03a6e1fffa73')\"\n",
              "              title=\"Convert this dataframe to an interactive table.\"\n",
              "              style=\"display:none;\">\n",
              "        \n",
              "  <svg xmlns=\"http://www.w3.org/2000/svg\" height=\"24px\"viewBox=\"0 0 24 24\"\n",
              "       width=\"24px\">\n",
              "    <path d=\"M0 0h24v24H0V0z\" fill=\"none\"/>\n",
              "    <path d=\"M18.56 5.44l.94 2.06.94-2.06 2.06-.94-2.06-.94-.94-2.06-.94 2.06-2.06.94zm-11 1L8.5 8.5l.94-2.06 2.06-.94-2.06-.94L8.5 2.5l-.94 2.06-2.06.94zm10 10l.94 2.06.94-2.06 2.06-.94-2.06-.94-.94-2.06-.94 2.06-2.06.94z\"/><path d=\"M17.41 7.96l-1.37-1.37c-.4-.4-.92-.59-1.43-.59-.52 0-1.04.2-1.43.59L10.3 9.45l-7.72 7.72c-.78.78-.78 2.05 0 2.83L4 21.41c.39.39.9.59 1.41.59.51 0 1.02-.2 1.41-.59l7.78-7.78 2.81-2.81c.8-.78.8-2.07 0-2.86zM5.41 20L4 18.59l7.72-7.72 1.47 1.35L5.41 20z\"/>\n",
              "  </svg>\n",
              "      </button>\n",
              "      \n",
              "  <style>\n",
              "    .colab-df-container {\n",
              "      display:flex;\n",
              "      flex-wrap:wrap;\n",
              "      gap: 12px;\n",
              "    }\n",
              "\n",
              "    .colab-df-convert {\n",
              "      background-color: #E8F0FE;\n",
              "      border: none;\n",
              "      border-radius: 50%;\n",
              "      cursor: pointer;\n",
              "      display: none;\n",
              "      fill: #1967D2;\n",
              "      height: 32px;\n",
              "      padding: 0 0 0 0;\n",
              "      width: 32px;\n",
              "    }\n",
              "\n",
              "    .colab-df-convert:hover {\n",
              "      background-color: #E2EBFA;\n",
              "      box-shadow: 0px 1px 2px rgba(60, 64, 67, 0.3), 0px 1px 3px 1px rgba(60, 64, 67, 0.15);\n",
              "      fill: #174EA6;\n",
              "    }\n",
              "\n",
              "    [theme=dark] .colab-df-convert {\n",
              "      background-color: #3B4455;\n",
              "      fill: #D2E3FC;\n",
              "    }\n",
              "\n",
              "    [theme=dark] .colab-df-convert:hover {\n",
              "      background-color: #434B5C;\n",
              "      box-shadow: 0px 1px 3px 1px rgba(0, 0, 0, 0.15);\n",
              "      filter: drop-shadow(0px 1px 2px rgba(0, 0, 0, 0.3));\n",
              "      fill: #FFFFFF;\n",
              "    }\n",
              "  </style>\n",
              "\n",
              "      <script>\n",
              "        const buttonEl =\n",
              "          document.querySelector('#df-1096e5e4-8694-45c0-8fa5-03a6e1fffa73 button.colab-df-convert');\n",
              "        buttonEl.style.display =\n",
              "          google.colab.kernel.accessAllowed ? 'block' : 'none';\n",
              "\n",
              "        async function convertToInteractive(key) {\n",
              "          const element = document.querySelector('#df-1096e5e4-8694-45c0-8fa5-03a6e1fffa73');\n",
              "          const dataTable =\n",
              "            await google.colab.kernel.invokeFunction('convertToInteractive',\n",
              "                                                     [key], {});\n",
              "          if (!dataTable) return;\n",
              "\n",
              "          const docLinkHtml = 'Like what you see? Visit the ' +\n",
              "            '<a target=\"_blank\" href=https://colab.research.google.com/notebooks/data_table.ipynb>data table notebook</a>'\n",
              "            + ' to learn more about interactive tables.';\n",
              "          element.innerHTML = '';\n",
              "          dataTable['output_type'] = 'display_data';\n",
              "          await google.colab.output.renderOutput(dataTable, element);\n",
              "          const docLink = document.createElement('div');\n",
              "          docLink.innerHTML = docLinkHtml;\n",
              "          element.appendChild(docLink);\n",
              "        }\n",
              "      </script>\n",
              "    </div>\n",
              "  </div>\n",
              "  "
            ]
          },
          "metadata": {},
          "execution_count": 5
        }
      ]
    },
    {
      "cell_type": "code",
      "source": [
        "glass.isna().sum()"
      ],
      "metadata": {
        "colab": {
          "base_uri": "https://localhost:8080/"
        },
        "id": "ptIetXAtFtzo",
        "outputId": "a069abe3-f6e7-4098-d3a1-56794425363e"
      },
      "execution_count": 6,
      "outputs": [
        {
          "output_type": "execute_result",
          "data": {
            "text/plain": [
              "RI      0\n",
              "Na      0\n",
              "Mg      0\n",
              "Al      0\n",
              "Si      0\n",
              "K       0\n",
              "Ca      0\n",
              "Ba      0\n",
              "Fe      0\n",
              "Type    0\n",
              "dtype: int64"
            ]
          },
          "metadata": {},
          "execution_count": 6
        }
      ]
    },
    {
      "cell_type": "code",
      "source": [
        "sns.catplot('Type',data=glass,height = 5,kind=\"count\",aspect=2)"
      ],
      "metadata": {
        "colab": {
          "base_uri": "https://localhost:8080/",
          "height": 382
        },
        "id": "feEB0ZbEFw5d",
        "outputId": "088c2233-8cff-4b70-bced-0a2d6de6c913"
      },
      "execution_count": 7,
      "outputs": [
        {
          "output_type": "execute_result",
          "data": {
            "text/plain": [
              "<seaborn.axisgrid.FacetGrid at 0x7fb94cb5cd90>"
            ]
          },
          "metadata": {},
          "execution_count": 7
        },
        {
          "output_type": "display_data",
          "data": {
            "text/plain": [
              "<Figure size 720x360 with 1 Axes>"
            ],
            "image/png": "[encoded data removed]"
          },
          "metadata": {
            "needs_background": "light"
          }
        }
      ]
    },
    {
      "cell_type": "markdown",
      "source": [
        "## majority of the glass types are 1 = building_windows_float_processed and 2 = building_windows_non_float_processed, followed by 7 = headlamps."
      ],
      "metadata": {
        "id": "qcVdOGmSF0Cz"
      }
    },
    {
      "cell_type": "code",
      "source": [
        "glass.plot(kind='density', subplots=True, layout=(4,5), figsize=(13,20),sharex=False)\n",
        "plt.show()"
      ],
      "metadata": {
        "colab": {
          "base_uri": "https://localhost:8080/",
          "height": 515
        },
        "id": "8TyjBM7rFy1Z",
        "outputId": "bfa1a421-db3d-47f4-e2c2-78089c3173fd"
      },
      "execution_count": 8,
      "outputs": [
        {
          "output_type": "display_data",
          "data": {
            "text/plain": [
              "<Figure size 936x1440 with 20 Axes>"
            ],
            "image/png": "[encoded data removed]"
          },
          "metadata": {
            "needs_background": "light"
          }
        }
      ]
    },
    {
      "cell_type": "markdown",
      "source": [
        "## 4. Model Building"
      ],
      "metadata": {
        "id": "1OqOINxWF7l_"
      }
    },
    {
      "cell_type": "code",
      "source": [
        "X = glass.drop(['Type'],axis=1)\n",
        "y = glass['Type']"
      ],
      "metadata": {
        "id": "dNsWr-lNF5dg"
      },
      "execution_count": 9,
      "outputs": []
    },
    {
      "cell_type": "code",
      "source": [
        "X_train,X_test,y_train,y_test = train_test_split(X,y,test_size=0.20,random_state= 12,stratify=y)\n",
        "X_train.shape,y_train.shape,X_test.shape,y_test.shape"
      ],
      "metadata": {
        "colab": {
          "base_uri": "https://localhost:8080/"
        },
        "id": "fTKqM6wUF_D_",
        "outputId": "617d0df2-0160-4a6f-e1a9-96b0ee0e7352"
      },
      "execution_count": 10,
      "outputs": [
        {
          "output_type": "execute_result",
          "data": {
            "text/plain": [
              "((171, 9), (171,), (43, 9), (43,))"
            ]
          },
          "metadata": {},
          "execution_count": 10
        }
      ]
    },
    {
      "cell_type": "markdown",
      "source": [
        "## Finding optimal number of K"
      ],
      "metadata": {
        "id": "qMwi8JUWGB4W"
      }
    },
    {
      "cell_type": "code",
      "source": [
        "# X =np.array(X)\n",
        "# y =np.array(y)"
      ],
      "metadata": {
        "id": "dtVSCW50GA1L"
      },
      "execution_count": null,
      "outputs": []
    },
    {
      "cell_type": "code",
      "source": [
        "k_values = list(range(1,25))\n",
        "train_accuracy = []\n",
        "test_accuracy = []\n",
        "\n",
        "for i, k in enumerate(k_values):\n",
        "    knn = KNeighborsClassifier(n_neighbors=k)\n",
        "    knn.fit(X_train,y_train)\n",
        "    train_accuracy.append(knn.score(X_train, y_train))\n",
        "    test_accuracy.append(knn.score(X_test, y_test))"
      ],
      "metadata": {
        "id": "sLu9ILIAGGXY"
      },
      "execution_count": 11,
      "outputs": []
    },
    {
      "cell_type": "code",
      "source": [
        "plt.figure(figsize=[13,8])\n",
        "plt.plot(k_values, test_accuracy, label = 'Testing Accuracy')\n",
        "plt.plot(k_values, train_accuracy, label = 'Training Accuracy')\n",
        "plt.legend()\n",
        "plt.title('value VS Accuracy')\n",
        "plt.xlabel('Number of Neighbors')\n",
        "plt.ylabel('Accuracy')\n",
        "plt.xticks(k_values)\n",
        "plt.show()"
      ],
      "metadata": {
        "colab": {
          "base_uri": "https://localhost:8080/",
          "height": 466
        },
        "id": "U61MSQF1GIAN",
        "outputId": "c3df03a8-d564-45a3-c9da-ae28de6ac9c8"
      },
      "execution_count": 12,
      "outputs": [
        {
          "output_type": "display_data",
          "data": {
            "text/plain": [
              "<Figure size 936x576 with 1 Axes>"
            ],
            "image/png": "[encoded data removed]"
          },
          "metadata": {
            "needs_background": "light"
          }
        }
      ]
    },
    {
      "cell_type": "markdown",
      "source": [
        "as we can see k =4 has most accurate result ,so we'll go with that"
      ],
      "metadata": {
        "id": "R3O1LmVKGW-V"
      }
    },
    {
      "cell_type": "markdown",
      "source": [
        "## 5. KNN"
      ],
      "metadata": {
        "id": "CT4_XHeEGZSR"
      }
    },
    {
      "cell_type": "markdown",
      "source": [
        "Generating a Model with K = 4"
      ],
      "metadata": {
        "id": "EcghrL9dGb60"
      }
    },
    {
      "cell_type": "markdown",
      "source": [
        "## Model Training without STANDARDIZATION"
      ],
      "metadata": {
        "id": "CVl7f9GdGfNs"
      }
    },
    {
      "cell_type": "code",
      "source": [
        "knn_model = KNeighborsClassifier(n_neighbors=4)\n",
        "knn_model.fit(X_train,y_train)\n",
        "y_pred = knn_model.predict(X_test)\n",
        "print(\"Accuracy score: \", round(accuracy_score(y_test,y_pred),4))"
      ],
      "metadata": {
        "colab": {
          "base_uri": "https://localhost:8080/"
        },
        "id": "bEc9H-FJGe-f",
        "outputId": "f3347670-4aa8-425f-e24d-66e915ed6124"
      },
      "execution_count": 13,
      "outputs": [
        {
          "output_type": "stream",
          "name": "stdout",
          "text": [
            "Accuracy score:  0.6512\n"
          ]
        }
      ]
    },
    {
      "cell_type": "markdown",
      "source": [
        "## Model Training with STANDARDIZATION"
      ],
      "metadata": {
        "id": "T7Ve_NwDGkDh"
      }
    },
    {
      "cell_type": "code",
      "source": [
        "scaler   = StandardScaler()\n",
        "scaled_X = scaler.fit_transform(X)"
      ],
      "metadata": {
        "id": "tdUy0M_LGKTu"
      },
      "execution_count": 14,
      "outputs": []
    },
    {
      "cell_type": "code",
      "source": [
        "pd.DataFrame(scaled_X)"
      ],
      "metadata": {
        "colab": {
          "base_uri": "https://localhost:8080/",
          "height": 488
        },
        "id": "2y9yi_1VGn5w",
        "outputId": "27220203-bc72-4426-b037-3662f5d20877"
      },
      "execution_count": 15,
      "outputs": [
        {
          "output_type": "execute_result",
          "data": {
            "text/plain": [
              "            0         1         2         3         4         5         6  \\\n",
              "0    0.872868  0.284953  1.254639 -0.692442 -1.127082 -0.671705 -0.145766   \n",
              "1   -0.249333  0.591817  0.636168 -0.170460  0.102319 -0.026213 -0.793734   \n",
              "2   -0.721318  0.149933  0.601422  0.190912  0.438787 -0.164533 -0.828949   \n",
              "3   -0.232831 -0.242853  0.698710 -0.310994 -0.052974  0.112107 -0.519052   \n",
              "4   -0.312045 -0.169205  0.650066 -0.411375  0.555256  0.081369 -0.624699   \n",
              "..        ...       ...       ...       ...       ...       ...       ...   \n",
              "209 -0.704815  0.898681 -1.865511  2.881125 -0.052974 -0.640968  0.157088   \n",
              "210 -0.500178  1.856097 -1.865511  1.094342  0.529374 -0.763919 -0.392276   \n",
              "211  0.754046  1.168721 -1.865511  1.154570  0.995252 -0.763919 -0.364103   \n",
              "212 -0.612399  1.193270 -1.865511  0.993960  1.241133 -0.763919 -0.335931   \n",
              "213 -0.414363  1.009152 -1.865511  1.275028  0.917606 -0.763919 -0.237327   \n",
              "\n",
              "            7         8  \n",
              "0   -0.352877 -0.586451  \n",
              "1   -0.352877 -0.586451  \n",
              "2   -0.352877 -0.586451  \n",
              "3   -0.352877 -0.586451  \n",
              "4   -0.352877 -0.586451  \n",
              "..        ...       ...  \n",
              "209  1.783978 -0.586451  \n",
              "210  2.852405 -0.586451  \n",
              "211  2.953200 -0.586451  \n",
              "212  2.812087 -0.586451  \n",
              "213  3.013677 -0.586451  \n",
              "\n",
              "[214 rows x 9 columns]"
            ],
            "text/html": [
              "\n",
              "  <div id=\"df-a0b6e030-c6f3-4931-9cb7-0fc59bb95af7\">\n",
              "    <div class=\"colab-df-container\">\n",
              "      <div>\n",
              "<style scoped>\n",
              "    .dataframe tbody tr th:only-of-type {\n",
              "        vertical-align: middle;\n",
              "    }\n",
              "\n",
              "    .dataframe tbody tr th {\n",
              "        vertical-align: top;\n",
              "    }\n",
              "\n",
              "    .dataframe thead th {\n",
              "        text-align: right;\n",
              "    }\n",
              "</style>\n",
              "<table border=\"1\" class=\"dataframe\">\n",
              "  <thead>\n",
              "    <tr style=\"text-align: right;\">\n",
              "      <th></th>\n",
              "      <th>0</th>\n",
              "      <th>1</th>\n",
              "      <th>2</th>\n",
              "      <th>3</th>\n",
              "      <th>4</th>\n",
              "      <th>5</th>\n",
              "      <th>6</th>\n",
              "      <th>7</th>\n",
              "      <th>8</th>\n",
              "    </tr>\n",
              "  </thead>\n",
              "  <tbody>\n",
              "    <tr>\n",
              "      <th>0</th>\n",
              "      <td>0.872868</td>\n",
              "      <td>0.284953</td>\n",
              "      <td>1.254639</td>\n",
              "      <td>-0.692442</td>\n",
              "      <td>-1.127082</td>\n",
              "      <td>-0.671705</td>\n",
              "      <td>-0.145766</td>\n",
              "      <td>-0.352877</td>\n",
              "      <td>-0.586451</td>\n",
              "    </tr>\n",
              "    <tr>\n",
              "      <th>1</th>\n",
              "      <td>-0.249333</td>\n",
              "      <td>0.591817</td>\n",
              "      <td>0.636168</td>\n",
              "      <td>-0.170460</td>\n",
              "      <td>0.102319</td>\n",
              "      <td>-0.026213</td>\n",
              "      <td>-0.793734</td>\n",
              "      <td>-0.352877</td>\n",
              "      <td>-0.586451</td>\n",
              "    </tr>\n",
              "    <tr>\n",
              "      <th>2</th>\n",
              "      <td>-0.721318</td>\n",
              "      <td>0.149933</td>\n",
              "      <td>0.601422</td>\n",
              "      <td>0.190912</td>\n",
              "      <td>0.438787</td>\n",
              "      <td>-0.164533</td>\n",
              "      <td>-0.828949</td>\n",
              "      <td>-0.352877</td>\n",
              "      <td>-0.586451</td>\n",
              "    </tr>\n",
              "    <tr>\n",
              "      <th>3</th>\n",
              "      <td>-0.232831</td>\n",
              "      <td>-0.242853</td>\n",
              "      <td>0.698710</td>\n",
              "      <td>-0.310994</td>\n",
              "      <td>-0.052974</td>\n",
              "      <td>0.112107</td>\n",
              "      <td>-0.519052</td>\n",
              "      <td>-0.352877</td>\n",
              "      <td>-0.586451</td>\n",
              "    </tr>\n",
              "    <tr>\n",
              "      <th>4</th>\n",
              "      <td>-0.312045</td>\n",
              "      <td>-0.169205</td>\n",
              "      <td>0.650066</td>\n",
              "      <td>-0.411375</td>\n",
              "      <td>0.555256</td>\n",
              "      <td>0.081369</td>\n",
              "      <td>-0.624699</td>\n",
              "      <td>-0.352877</td>\n",
              "      <td>-0.586451</td>\n",
              "    </tr>\n",
              "    <tr>\n",
              "      <th>...</th>\n",
              "      <td>...</td>\n",
              "      <td>...</td>\n",
              "      <td>...</td>\n",
              "      <td>...</td>\n",
              "      <td>...</td>\n",
              "      <td>...</td>\n",
              "      <td>...</td>\n",
              "      <td>...</td>\n",
              "      <td>...</td>\n",
              "    </tr>\n",
              "    <tr>\n",
              "      <th>209</th>\n",
              "      <td>-0.704815</td>\n",
              "      <td>0.898681</td>\n",
              "      <td>-1.865511</td>\n",
              "      <td>2.881125</td>\n",
              "      <td>-0.052974</td>\n",
              "      <td>-0.640968</td>\n",
              "      <td>0.157088</td>\n",
              "      <td>1.783978</td>\n",
              "      <td>-0.586451</td>\n",
              "    </tr>\n",
              "    <tr>\n",
              "      <th>210</th>\n",
              "      <td>-0.500178</td>\n",
              "      <td>1.856097</td>\n",
              "      <td>-1.865511</td>\n",
              "      <td>1.094342</td>\n",
              "      <td>0.529374</td>\n",
              "      <td>-0.763919</td>\n",
              "      <td>-0.392276</td>\n",
              "      <td>2.852405</td>\n",
              "      <td>-0.586451</td>\n",
              "    </tr>\n",
              "    <tr>\n",
              "      <th>211</th>\n",
              "      <td>0.754046</td>\n",
              "      <td>1.168721</td>\n",
              "      <td>-1.865511</td>\n",
              "      <td>1.154570</td>\n",
              "      <td>0.995252</td>\n",
              "      <td>-0.763919</td>\n",
              "      <td>-0.364103</td>\n",
              "      <td>2.953200</td>\n",
              "      <td>-0.586451</td>\n",
              "    </tr>\n",
              "    <tr>\n",
              "      <th>212</th>\n",
              "      <td>-0.612399</td>\n",
              "      <td>1.193270</td>\n",
              "      <td>-1.865511</td>\n",
              "      <td>0.993960</td>\n",
              "      <td>1.241133</td>\n",
              "      <td>-0.763919</td>\n",
              "      <td>-0.335931</td>\n",
              "      <td>2.812087</td>\n",
              "      <td>-0.586451</td>\n",
              "    </tr>\n",
              "    <tr>\n",
              "      <th>213</th>\n",
              "      <td>-0.414363</td>\n",
              "      <td>1.009152</td>\n",
              "      <td>-1.865511</td>\n",
              "      <td>1.275028</td>\n",
              "      <td>0.917606</td>\n",
              "      <td>-0.763919</td>\n",
              "      <td>-0.237327</td>\n",
              "      <td>3.013677</td>\n",
              "      <td>-0.586451</td>\n",
              "    </tr>\n",
              "  </tbody>\n",
              "</table>\n",
              "<p>214 rows × 9 columns</p>\n",
              "</div>\n",
              "      <button class=\"colab-df-convert\" onclick=\"convertToInteractive('df-a0b6e030-c6f3-4931-9cb7-0fc59bb95af7')\"\n",
              "              title=\"Convert this dataframe to an interactive table.\"\n",
              "              style=\"display:none;\">\n",
              "        \n",
              "  <svg xmlns=\"http://www.w3.org/2000/svg\" height=\"24px\"viewBox=\"0 0 24 24\"\n",
              "       width=\"24px\">\n",
              "    <path d=\"M0 0h24v24H0V0z\" fill=\"none\"/>\n",
              "    <path d=\"M18.56 5.44l.94 2.06.94-2.06 2.06-.94-2.06-.94-.94-2.06-.94 2.06-2.06.94zm-11 1L8.5 8.5l.94-2.06 2.06-.94-2.06-.94L8.5 2.5l-.94 2.06-2.06.94zm10 10l.94 2.06.94-2.06 2.06-.94-2.06-.94-.94-2.06-.94 2.06-2.06.94z\"/><path d=\"M17.41 7.96l-1.37-1.37c-.4-.4-.92-.59-1.43-.59-.52 0-1.04.2-1.43.59L10.3 9.45l-7.72 7.72c-.78.78-.78 2.05 0 2.83L4 21.41c.39.39.9.59 1.41.59.51 0 1.02-.2 1.41-.59l7.78-7.78 2.81-2.81c.8-.78.8-2.07 0-2.86zM5.41 20L4 18.59l7.72-7.72 1.47 1.35L5.41 20z\"/>\n",
              "  </svg>\n",
              "      </button>\n",
              "      \n",
              "  <style>\n",
              "    .colab-df-container {\n",
              "      display:flex;\n",
              "      flex-wrap:wrap;\n",
              "      gap: 12px;\n",
              "    }\n",
              "\n",
              "    .colab-df-convert {\n",
              "      background-color: #E8F0FE;\n",
              "      border: none;\n",
              "      border-radius: 50%;\n",
              "      cursor: pointer;\n",
              "      display: none;\n",
              "      fill: #1967D2;\n",
              "      height: 32px;\n",
              "      padding: 0 0 0 0;\n",
              "      width: 32px;\n",
              "    }\n",
              "\n",
              "    .colab-df-convert:hover {\n",
              "      background-color: #E2EBFA;\n",
              "      box-shadow: 0px 1px 2px rgba(60, 64, 67, 0.3), 0px 1px 3px 1px rgba(60, 64, 67, 0.15);\n",
              "      fill: #174EA6;\n",
              "    }\n",
              "\n",
              "    [theme=dark] .colab-df-convert {\n",
              "      background-color: #3B4455;\n",
              "      fill: #D2E3FC;\n",
              "    }\n",
              "\n",
              "    [theme=dark] .colab-df-convert:hover {\n",
              "      background-color: #434B5C;\n",
              "      box-shadow: 0px 1px 3px 1px rgba(0, 0, 0, 0.15);\n",
              "      filter: drop-shadow(0px 1px 2px rgba(0, 0, 0, 0.3));\n",
              "      fill: #FFFFFF;\n",
              "    }\n",
              "  </style>\n",
              "\n",
              "      <script>\n",
              "        const buttonEl =\n",
              "          document.querySelector('#df-a0b6e030-c6f3-4931-9cb7-0fc59bb95af7 button.colab-df-convert');\n",
              "        buttonEl.style.display =\n",
              "          google.colab.kernel.accessAllowed ? 'block' : 'none';\n",
              "\n",
              "        async function convertToInteractive(key) {\n",
              "          const element = document.querySelector('#df-a0b6e030-c6f3-4931-9cb7-0fc59bb95af7');\n",
              "          const dataTable =\n",
              "            await google.colab.kernel.invokeFunction('convertToInteractive',\n",
              "                                                     [key], {});\n",
              "          if (!dataTable) return;\n",
              "\n",
              "          const docLinkHtml = 'Like what you see? Visit the ' +\n",
              "            '<a target=\"_blank\" href=https://colab.research.google.com/notebooks/data_table.ipynb>data table notebook</a>'\n",
              "            + ' to learn more about interactive tables.';\n",
              "          element.innerHTML = '';\n",
              "          dataTable['output_type'] = 'display_data';\n",
              "          await google.colab.output.renderOutput(dataTable, element);\n",
              "          const docLink = document.createElement('div');\n",
              "          docLink.innerHTML = docLinkHtml;\n",
              "          element.appendChild(docLink);\n",
              "        }\n",
              "      </script>\n",
              "    </div>\n",
              "  </div>\n",
              "  "
            ]
          },
          "metadata": {},
          "execution_count": 15
        }
      ]
    },
    {
      "cell_type": "code",
      "source": [
        "X_train,X_test,y_train,y_test = train_test_split(scaled_X,y,test_size=0.20,random_state= 12,stratify=y)\n",
        "X_train.shape,y_train.shape,X_test.shape,y_test.shape"
      ],
      "metadata": {
        "colab": {
          "base_uri": "https://localhost:8080/"
        },
        "id": "mmAJU-V2Gpmo",
        "outputId": "a018fbac-9e41-4157-deea-6a6ab4bb7400"
      },
      "execution_count": 16,
      "outputs": [
        {
          "output_type": "execute_result",
          "data": {
            "text/plain": [
              "((171, 9), (171,), (43, 9), (43,))"
            ]
          },
          "metadata": {},
          "execution_count": 16
        }
      ]
    },
    {
      "cell_type": "code",
      "source": [
        "X_train"
      ],
      "metadata": {
        "colab": {
          "base_uri": "https://localhost:8080/"
        },
        "id": "UbXpF7ssGsY-",
        "outputId": "8a41499b-fabc-4c1f-d9e0-876f48882401"
      },
      "execution_count": 17,
      "outputs": [
        {
          "output_type": "execute_result",
          "data": {
            "text/plain": [
              "array([[-1.20610400e-01,  3.70875159e-01,  8.65488567e-01, ...,\n",
              "        -5.26095044e-01, -3.52876828e-01,  9.56587946e-01],\n",
              "       [-1.70159374e+00, -5.00618371e-01, -1.86551055e+00, ...,\n",
              "        -1.42761494e+00, -3.52876828e-01, -5.86450902e-01],\n",
              "       [-1.73419864e-01, -4.02421917e-01,  5.59727851e-01, ...,\n",
              "        -3.28887568e-01, -3.52876828e-01, -5.86450902e-01],\n",
              "       ...,\n",
              "       [ 1.24253390e+00,  9.84602997e-01,  7.89048388e-01, ...,\n",
              "         4.31769840e-01, -3.52876828e-01, -5.86450902e-01],\n",
              "       [-3.61553581e-01,  1.58605628e+00, -1.86551055e+00, ...,\n",
              "        -4.90385747e-03,  9.77617652e-01, -5.86450902e-01],\n",
              "       [ 4.25267336e+00, -3.28694275e+00, -1.86551055e+00, ...,\n",
              "         3.05885515e+00,  5.99721046e+00,  2.29388828e+00]])"
            ]
          },
          "metadata": {},
          "execution_count": 17
        }
      ]
    },
    {
      "cell_type": "code",
      "source": [
        "X_test"
      ],
      "metadata": {
        "colab": {
          "base_uri": "https://localhost:8080/"
        },
        "id": "SH8r0F83GuW2",
        "outputId": "bbe25297-74ac-4821-bacc-057704815395"
      },
      "execution_count": 18,
      "outputs": [
        {
          "output_type": "execute_result",
          "data": {
            "text/plain": [
              "array([[ 4.77197670e-02, -2.55127236e-01,  6.57015352e-01,\n",
              "        -7.52670580e-01,  2.31729707e-01,  1.12106515e-01,\n",
              "        -3.85232561e-01, -1.71445763e-01,  1.16232646e+00],\n",
              "       [-7.51023380e-01,  1.96656754e+00, -1.86551055e+00,\n",
              "         2.13830494e+00,  5.16433114e-01, -6.87074327e-01,\n",
              "        -8.94213472e-02,  7.15550557e-01, -5.86450902e-01],\n",
              "       [ 1.23593271e+00,  9.60053883e-01,  7.61251959e-01,\n",
              "        -1.07389008e+00, -1.67060670e+00, -4.10434805e-01,\n",
              "         1.28915501e-01, -3.52876828e-01,  3.21971159e+00],\n",
              "       [-5.45985699e-02, -9.67051528e-01,  5.24430284e-02,\n",
              "        -1.23449983e+00,  1.49995398e+00, -2.26008457e-01,\n",
              "         3.26122977e-01, -3.52876828e-01,  1.47093423e+00],\n",
              "       [ 1.83044019e-01,  6.40112399e-02,  7.95997495e-01,\n",
              "        -3.71222421e-01, -1.30620085e-01,  1.12106515e-01,\n",
              "        -5.26095044e-01, -3.52876828e-01,  8.53718690e-01],\n",
              "       [ 1.12371260e+00, -2.55127236e-01,  6.91760888e-01,\n",
              "        -5.92060829e-01,  1.28201195e-01,  6.59999275e-02,\n",
              "        -3.07758196e-01, -3.52876828e-01, -5.86450902e-01],\n",
              "       [-5.72791438e-01, -5.86540268e-01,  5.94473387e-01,\n",
              "         3.51521459e-01,  3.99963538e-01,  2.19688551e-01,\n",
              "        -6.52871279e-01, -3.52876828e-01,  1.57380349e+00],\n",
              "       [-7.21318056e-01, -4.88343814e-01,  5.66676959e-01,\n",
              "         7.04543943e-02,  3.09376090e-01,  1.58213102e-01,\n",
              "        -5.89483162e-01, -3.52876828e-01, -5.86450902e-01],\n",
              "       [ 1.57919423e+00,  3.94621264e-02,  4.55491244e-01,\n",
              "        -4.31451078e-01, -3.50618173e-01,  1.58213102e-01,\n",
              "        -8.94213472e-02, -3.52876828e-01, -5.86450902e-01],\n",
              "       [ 2.02847568e-01,  2.11305921e-01,  4.62440351e-01,\n",
              "        -4.31451078e-01, -7.38850093e-01,  1.42844239e-01,\n",
              "        -3.30763541e-02, -3.52876828e-01, -5.86450902e-01],\n",
              "       [ 1.17032189e-01, -5.86540268e-01,  6.77862673e-01,\n",
              "         2.31064145e-01, -1.82384341e-01,  1.27475377e-01,\n",
              "        -2.86628823e-01, -3.52876828e-01,  6.47980177e-01],\n",
              "       [ 4.37189566e-01, -9.42502414e-01, -1.86551055e+00,\n",
              "         4.11750115e-01,  1.42230759e+00, -1.79901870e-01,\n",
              "         1.81222217e+00, -3.52876828e-01, -5.86450902e-01],\n",
              "       [-7.24618648e-01,  1.89292020e+00, -1.86551055e+00,\n",
              "         1.65647569e+00,  8.39959714e-01, -7.63918639e-01,\n",
              "        -1.73938837e-01,  9.97776659e-01, -5.86450902e-01],\n",
              "       [-1.08438312e+00,  2.13841133e+00, -1.86551055e+00,\n",
              "         1.61632325e+00,  1.09878099e+00, -7.63918639e-01,\n",
              "        -4.34534430e-01,  9.17140630e-01, -5.86450902e-01],\n",
              "       [-1.76720456e-01, -8.81129630e-01,  5.94473387e-01,\n",
              "        -2.10612670e-01,  3.87022474e-01,  1.12106515e-01,\n",
              "        -1.45766340e-01, -3.52876828e-01, -5.86450902e-01],\n",
              "       [-8.43038936e-02, -5.49716598e-01,  1.91425172e-01,\n",
              "        -2.99267001e-02,  3.48199282e-01,  1.58213102e-01,\n",
              "        -1.17593844e-01, -7.06507264e-02, -5.86450902e-01],\n",
              "       [-7.93931069e-01, -7.58384063e-01,  6.43117137e-01,\n",
              "         3.51521459e-01,  4.12904602e-01,  2.19688551e-01,\n",
              "        -6.24698782e-01, -3.52876828e-01,  2.08814977e+00],\n",
              "       [-2.42732286e-01, -7.46109506e-01,  6.77862673e-01,\n",
              "        -3.51146202e-01,  4.64668858e-01,  1.58213102e-01,\n",
              "        -2.79585699e-01, -3.52876828e-01, -5.86450902e-01],\n",
              "       [-5.00178424e-01,  1.85609653e+00, -1.86551055e+00,\n",
              "         1.09434156e+00,  5.29374178e-01, -7.63918639e-01,\n",
              "        -3.92275686e-01,  2.85240533e+00, -5.86450902e-01],\n",
              "       [-3.81357130e-01, -6.60187609e-01,  5.52778744e-01,\n",
              "        -2.30688889e-01,  5.03492050e-01,  9.67376522e-02,\n",
              "        -3.71146313e-01, -3.52876828e-01, -5.86450902e-01],\n",
              "       [-7.21318056e-01,  1.49933137e-01,  6.01422494e-01,\n",
              "         1.90911708e-01,  4.38786730e-01, -1.64533008e-01,\n",
              "        -8.28949383e-01, -3.52876828e-01, -5.86450902e-01],\n",
              "       [-2.39431695e-01, -5.25167484e-01,  5.94473387e-01,\n",
              "        -4.71603516e-01,  4.51727794e-01,  2.35057413e-01,\n",
              "        -3.00715072e-01, -3.52876828e-01, -5.86450902e-01],\n",
              "       [-2.92241159e-01, -6.72462165e-01,  6.08371602e-01,\n",
              "        -3.51146202e-01,  7.23490138e-01,  6.59999275e-02,\n",
              "        -4.06361934e-01, -3.52876828e-01,  1.16232646e+00],\n",
              "       [ 1.89275042e+00,  5.18169840e-01,  1.49730529e-01,\n",
              "        -5.51908391e-01, -1.94236904e+00, -6.40967740e-01,\n",
              "         1.29103099e+00, -3.52876828e-01, -5.86450902e-01],\n",
              "       [ 6.81433338e-01, -3.41852141e-02, -1.86551055e+00,\n",
              "        -9.01553568e-02, -5.18852005e-01, -2.56746182e-01,\n",
              "         2.49540521e+00, -3.52876828e-01, -5.86450902e-01],\n",
              "       [ 1.69841653e-01,  1.94201842e+00, -1.32348019e+00,\n",
              "         5.92436086e-01, -1.95325405e-01, -7.63918639e-01,\n",
              "         6.99408557e-01, -3.52876828e-01, -5.86450902e-01],\n",
              "       [-2.32830512e-01, -2.42852679e-01,  6.98709995e-01,\n",
              "        -3.10993765e-01, -5.29737012e-02,  1.12106515e-01,\n",
              "        -5.19051920e-01, -3.52876828e-01, -5.86450902e-01],\n",
              "       [-8.66544083e-01,  1.78244919e+00,  6.84811780e-01,\n",
              "         5.92436086e-01, -1.01061244e+00, -5.18016841e-01,\n",
              "        -1.12476060e+00, -3.52876828e-01,  6.47980177e-01],\n",
              "       [-9.42056681e-02,  2.71875696e-02,  1.28883207e-01,\n",
              "        -5.11755954e-01,  2.44670771e-01,  8.13687898e-02,\n",
              "         5.14411357e-02, -3.52876828e-01, -5.86450902e-01],\n",
              "       [ 7.63948126e-01,  1.74482251e-01, -4.13147152e-01,\n",
              "         4.51902553e-01, -6.09439453e-01,  5.06310652e-02,\n",
              "         4.31769840e-01,  1.91416368e-01,  1.16232646e+00],\n",
              "       [ 7.54046351e-01,  1.16872135e+00, -1.86551055e+00,\n",
              "         1.15457021e+00,  9.95252482e-01, -7.63918639e-01,\n",
              "        -3.64103189e-01,  2.95320036e+00, -5.86450902e-01],\n",
              "       [-4.27565411e-01,  8.85603534e-02,  5.52778744e-01,\n",
              "         5.32207429e-01, -1.69443277e-01,  1.88950826e-01,\n",
              "        -6.81043776e-01, -3.52876828e-01, -5.86450902e-01],\n",
              "       [ 1.47138519e-02, -5.86540268e-01,  7.33455531e-01,\n",
              "        -6.72365705e-01, -4.80028813e-01,  2.19688551e-01,\n",
              "         2.13926668e-03, -3.52876828e-01,  1.67667274e+00],\n",
              "       [-5.66190255e-01, -3.28774576e-01,  5.31931423e-01,\n",
              "         6.32588523e-01, -2.21207533e-01,  1.58213102e-01,\n",
              "        -4.06361934e-01, -3.52876828e-01,  1.16232646e+00],\n",
              "       [-5.36484931e-01, -6.60187609e-01,  6.08371602e-01,\n",
              "         3.91673897e-01,  6.32902690e-01,  2.35057413e-01,\n",
              "        -6.81043776e-01, -3.52876828e-01, -5.86450902e-01],\n",
              "       [-1.93223414e-01, -2.42852679e-01,  8.71885642e-02,\n",
              "        -3.10993765e-01,  4.25845666e-01,  1.98933405e-02,\n",
              "         4.43980116e-02, -3.52876828e-01,  3.39372407e-01],\n",
              "       [ 3.31570637e-01,  4.69071613e-01, -1.90775722e-01,\n",
              "        -5.11755954e-01,  1.41142259e-01, -7.63918639e-01,\n",
              "         5.72632323e-01, -3.52876828e-01, -5.86450902e-01],\n",
              "       [ 1.27553981e+00, -2.42852679e-01,  7.54302852e-01,\n",
              "        -1.31480471e+00, -8.55319668e-01, -5.64123428e-01,\n",
              "         7.48710426e-01, -3.52876828e-01, -5.86450902e-01],\n",
              "       [-5.39785523e-01, -1.32381668e-01,  6.63964459e-01,\n",
              "         1.70835489e-01, -1.56502213e-01,  2.35057413e-01,\n",
              "        -6.52871279e-01, -3.52876828e-01,  2.39675754e+00],\n",
              "       [-7.47722788e-01, -9.55579979e-02,  5.87524280e-01,\n",
              "        -2.10612670e-01,  2.46726827e-02,  9.67376522e-02,\n",
              "        -4.41577555e-01, -3.52876828e-01, -5.86450902e-01],\n",
              "       [-1.71809669e+00, -4.76069257e-01, -1.86551055e+00,\n",
              "         3.20234454e+00, -2.80942033e+00,  8.78014487e+00,\n",
              "        -1.40648556e+00, -3.52876828e-01, -5.86450902e-01],\n",
              "       [-3.31848257e-01, -7.70658619e-01,  6.50066245e-01,\n",
              "        -3.10993765e-01,  1.79965451e-01,  1.42844239e-01,\n",
              "        -1.80981961e-01, -3.52876828e-01, -5.86450902e-01],\n",
              "       [-3.08744117e-01, -1.32381668e-01,  6.36168030e-01,\n",
              "        -6.12137048e-01,  5.68197370e-01,  1.27475377e-01,\n",
              "        -5.54267541e-01, -3.52876828e-01, -5.86450902e-01]])"
            ]
          },
          "metadata": {},
          "execution_count": 18
        }
      ]
    },
    {
      "cell_type": "code",
      "source": [
        "knn_model = KNeighborsClassifier(n_neighbors=4)\n",
        "knn_model.fit(X_train,y_train)\n",
        "y_pred = knn_model.predict(X_test)\n",
        "print(\"Accuracy score: \", round(accuracy_score(y_test,y_pred),4))"
      ],
      "metadata": {
        "colab": {
          "base_uri": "https://localhost:8080/"
        },
        "id": "RLhktdluGwFa",
        "outputId": "78be20cf-6770-497e-906b-72b4a193ce9e"
      },
      "execution_count": 19,
      "outputs": [
        {
          "output_type": "stream",
          "name": "stdout",
          "text": [
            "Accuracy score:  0.6977\n"
          ]
        }
      ]
    },
    {
      "cell_type": "markdown",
      "source": [
        "## Model Accuracy score without standardization is : 0.6977"
      ],
      "metadata": {
        "id": "wabGiOvqG0s8"
      }
    },
    {
      "cell_type": "markdown",
      "source": [
        "## Model Accuracy score with standardization is : 0.6977"
      ],
      "metadata": {
        "id": "Et2l7cbxG47y"
      }
    }
  ]
}